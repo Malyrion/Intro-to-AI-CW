{
  "cells": [
    {
      "cell_type": "markdown",
      "source": [
        "This is Intro to AI coursework. Our model would classify and predict Salaries"
      ],
      "metadata": {
        "id": "2DWFSOSjMvLZ"
      },
      "id": "2DWFSOSjMvLZ"
    },
    {
      "cell_type": "markdown",
      "source": [
        "Import the libraries that is needed for our model\n"
      ],
      "metadata": {
        "id": "3QzJDVPCNKeq"
      },
      "id": "3QzJDVPCNKeq"
    },
    {
      "cell_type": "code",
      "execution_count": 2,
      "id": "8f4f0c8b-4516-46d7-8ece-1e063edc08bb",
      "metadata": {
        "id": "8f4f0c8b-4516-46d7-8ece-1e063edc08bb"
      },
      "outputs": [],
      "source": [
        "import numpy as np\n",
        "from sklearn import metrics\n",
        "from sklearn.model_selection import train_test_split\n",
        "from sklearn.svm import SVR\n",
        "from sklearn.metrics import mean_squared_error, r2_score\n",
        "import matplotlib.pyplot as plt\n",
        "import pandas as pd\n",
        "from sklearn.ensemble import RandomForestRegressor\n",
        "from sklearn.metrics import confusion_matrix\n",
        "\n",
        "import seaborn as sns"
      ]
    },
    {
      "cell_type": "markdown",
      "source": [
        "Import the csv file into pandas dataframe and remove any null values.\n"
      ],
      "metadata": {
        "id": "J28MRZ0EN2rx"
      },
      "id": "J28MRZ0EN2rx"
    },
    {
      "cell_type": "code",
      "execution_count": 3,
      "id": "b861ec11-37e9-46ed-927a-df33ea6eb412",
      "metadata": {
        "colab": {
          "base_uri": "https://localhost:8080/"
        },
        "id": "b861ec11-37e9-46ed-927a-df33ea6eb412",
        "outputId": "0c9e7bbb-11d9-4661-8b50-f457e8b78b4d"
      },
      "outputs": [
        {
          "output_type": "stream",
          "name": "stdout",
          "text": [
            "(30, 7)\n",
            "jobListingId                      int64\n",
            "jobCategory-FullTime              int64\n",
            "jobRemote                         int64\n",
            "kilometerDistanceFromCentral    float64\n",
            "Salary                            int64\n",
            "EasyToApply                       int64\n",
            "GraduateJob                       int64\n",
            "dtype: object\n",
            "<bound method NDFrame.head of     jobListingId  jobCategory-FullTime  ...  EasyToApply  GraduateJob\n",
            "0     4209669018                 10132  ...            0            1\n",
            "1     4159125761                 10132  ...            0            1\n",
            "2     4201688830                 10146  ...            1            0\n",
            "3     4262194486                 10132  ...            0            1\n",
            "4     4269437731                 10132  ...            0            1\n",
            "5     4217873931                 10132  ...            1            1\n",
            "6     4145986740                 10138  ...            1            1\n",
            "7     4211901773                 10041  ...            1            0\n",
            "8     4242469950                 10049  ...            0            0\n",
            "9     3627965893                 10132  ...            0            0\n",
            "10    4162207215                 10132  ...            1            0\n",
            "11    4209669019                 10132  ...            0            0\n",
            "12    4268414516                 10132  ...            0            0\n",
            "13    4211903643                 10132  ...            1            0\n",
            "14    4211901423                 10049  ...            1            0\n",
            "15    4231331016                 10146  ...            1            1\n",
            "16    4182578774                 10132  ...            0            0\n",
            "17    3672153205                 10132  ...            0            0\n",
            "18    4254995301                 10132  ...            1            0\n",
            "19    4231406232                 10146  ...            0            1\n",
            "20    4264601870                 10114  ...            1            0\n",
            "21    4212064730                 10132  ...            1            0\n",
            "22    4212064710                 10132  ...            1            1\n",
            "23    4223265580                 10022  ...            0            1\n",
            "24    4246800329                 10069  ...            1            0\n",
            "25    4152768385                 10057  ...            0            1\n",
            "26    4247547118                 10049  ...            0            0\n",
            "27    4260521198                 10132  ...            1            0\n",
            "28    4258869677                 10132  ...            1            0\n",
            "29    4250404970                 10132  ...            1            0\n",
            "\n",
            "[30 rows x 7 columns]>\n"
          ]
        }
      ],
      "source": [
        "file = 'SE(madeup).csv'\n",
        "sales_data = pd.read_csv(file, na_values=['NA', '?'])\n",
        "df = sales_data.select_dtypes(include=['int', 'float'])\n",
        "#Data Shape\n",
        "print(df.shape)\n",
        "#Data types\n",
        "print(df.dtypes)\n",
        "#Head of df\n",
        "print(df.head)"
      ]
    },
    {
      "cell_type": "markdown",
      "source": [
        "Split our data into X and y to specify which colum we want to predict. X being our features and y being the colum we are predicting"
      ],
      "metadata": {
        "id": "3r1Vx4WBboX2"
      },
      "id": "3r1Vx4WBboX2"
    },
    {
      "cell_type": "code",
      "source": [
        "#arry of our features\n",
        "result = []\n",
        "for x in df.columns:\n",
        "    if x != 'Salary':\n",
        "        result.append(x)\n",
        "\n",
        "#define X and y variables\n",
        "X = df[result].values\n",
        "y = df['Salary'].values\n",
        "\n",
        "#split data into testing and training with a 80 20 split of train and test\n",
        "X_train, X_test, y_train, y_test = train_test_split(X, y, test_size=0.2, random_state=0)\n",
        "\n",
        "#Define our model and specify the hyperparamters and fit the model on training dataset\n",
        "# clf = SVR(kernel='linear', epsilon=1034,gamma=3223, C=3000)\n",
        "clf= RandomForestRegressor(n_estimators=15, max_depth=2, random_state=47, min_samples_split=4)\n",
        "#fit the model\n",
        "clf=clf.fit(X_train, y_train)\n",
        "#check the score\n",
        "print(clf.score(X_test, y_test))\n",
        "\n",
        "#make a prediction for our test dataset and assign it to the variable\n",
        "y_pred = clf.predict(X_test)\n",
        "\n",
        "\n",
        "#build a new data frame with two columns, the actual values of the test data,\n",
        "#and the predictions of the model\n",
        "#see our predicted value with the actual value\n",
        "df_compare = pd.DataFrame({'Actual': y_test, 'Predicted': y_pred})\n",
        "df_head = df_compare.head(25)\n",
        "print(df_head)\n",
        "\n",
        "\n",
        "#python function, defined here to plot confusion matrices\n",
        "def plot_confusion_matrix(cm, names, title='Confusion matrix', cmap=plt.cm.Blues):\n",
        "    plt.imshow(cm, interpolation='nearest', cmap=cmap)\n",
        "    plt.title(title)\n",
        "    plt.colorbar(fraction=0.05)\n",
        "    tick_marks = np.arange(len(names))\n",
        "    plt.xticks(tick_marks, names, rotation=45)\n",
        "    plt.yticks(tick_marks, names)\n",
        "    plt.tight_layout()\n",
        "    plt.ylabel('True label')\n",
        "    plt.xlabel('Predicted label')\n",
        "    \n",
        "# cm = confusion_matrix(y_test, y_pred)\n",
        "# np.set_printoptions(precision=2)\n",
        "# print('Confusion matrix, without normalization')\n",
        "# print(cm)\n",
        "# plt.figure()\n",
        "# plot_confusion_matrix(cm, result, title='')\n",
        "\n",
        "# #graphical plots of confusion matrix using method above\n",
        "# cm_normalized = cm.astype('float') / cm.sum(axis=1)[:, np.newaxis]\n",
        "# print('Normalized confusion matrix')\n",
        "# print(cm_normalized)\n",
        "# plt.figure()\n",
        "# plot_confusion_matrix(cm_normalized, result, title='Normalized confusion matrix')\n",
        "# plt.show()\n",
        "\n",
        "\n",
        "\n",
        "df_head.plot(kind='bar',figsize=(10,8))\n",
        "plt.grid(which='major', linestyle='-', linewidth='0.5', color='green')\n",
        "plt.grid(which='minor', linestyle=':', linewidth='0.5', color='black')\n",
        "plt.show()\n",
        "\n",
        "print('Mean:', np.mean(y_test))\n",
        "print('Root Mean Squared Error:', np.sqrt(metrics.mean_squared_error(y_test, y_pred)))\n",
        "# Performance metrics\n",
        "errors = abs(y_pred - y_test)\n",
        "# Calculate mean absolute percentage error (MAPE)\n",
        "mape = 100 * (errors / y_test)\n",
        "# Calculate and display accuracy\n",
        "accuracy = 100 - np.mean(mape)\n",
        "print('Accuracy:', round(accuracy, 2), '%.')\n",
        "print(r2_score(y_test, y_pred))\n",
        "\n",
        "df_compare = pd.DataFrame({'Actual': y_test, 'Predicted': y_pred})\n",
        "sns.regplot(x='Actual', y='Predicted', data=df_compare);\n",
        "# plt.show()\n",
        "\n",
        "\n",
        "# Regression chart.\n",
        "def chart_regression(pred, y, sort=True):\n",
        "    t = pd.DataFrame({'pred': pred, 'y': y.flatten()})\n",
        "    if sort:\n",
        "        t.sort_values(by=['y'], inplace=True)\n",
        "    plt.plot(t['y'].tolist(), label='expected')\n",
        "    plt.plot(t['pred'].tolist(), label='prediction')\n",
        "    plt.ylabel('output')\n",
        "    plt.legend()\n",
        "    plt.show()\n"
      ],
      "metadata": {
        "colab": {
          "base_uri": "https://localhost:8080/",
          "height": 958
        },
        "id": "KUejhyDJVyFx",
        "outputId": "c4c7d98d-4968-4457-a0c9-597fc5b0d77a"
      },
      "id": "KUejhyDJVyFx",
      "execution_count": 8,
      "outputs": [
        {
          "output_type": "stream",
          "name": "stdout",
          "text": [
            "-0.2455437816276782\n",
            "   Actual     Predicted\n",
            "0   51464  41012.125328\n",
            "1   45509  40721.945010\n",
            "2   38776  41277.365380\n",
            "3   36928  40085.537285\n",
            "4   41624  46979.992857\n",
            "5   39584  38350.149415\n"
          ]
        },
        {
          "output_type": "display_data",
          "data": {
            "image/png": "[encoded data removed]",
            "text/plain": [
              "<Figure size 720x576 with 1 Axes>"
            ]
          },
          "metadata": {
            "needs_background": "light"
          }
        },
        {
          "output_type": "stream",
          "name": "stdout",
          "text": [
            "Mean: 42314.166666666664\n",
            "Root Mean Squared Error: 5455.784344327331\n",
            "Accuracy: 89.7 %.\n",
            "-0.2455437816276782\n"
          ]
        },
        {
          "output_type": "display_data",
          "data": {
            "image/png": "[encoded data removed]",
            "text/plain": [
              "<Figure size 432x288 with 1 Axes>"
            ]
          },
          "metadata": {
            "needs_background": "light"
          }
        }
      ]
    }
  ],
  "metadata": {
    "kernelspec": {
      "display_name": "Python 3",
      "language": "python",
      "name": "python3"
    },
    "language_info": {
      "codemirror_mode": {
        "name": "ipython",
        "version": 3
      },
      "file_extension": ".py",
      "mimetype": "text/x-python",
      "name": "python",
      "nbconvert_exporter": "python",
      "pygments_lexer": "ipython3",
      "version": "3.8.8"
    },
    "colab": {
      "name": "Intro_to_AI_CW.ipynb",
      "provenance": [],
      "collapsed_sections": []
    }
  },
  "nbformat": 4,
  "nbformat_minor": 5
}