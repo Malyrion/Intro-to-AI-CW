{
 "cells": [
  {
   "cell_type": "markdown",
   "id": "029c2d98-3687-4a63-990c-ff0019fe5b2f",
   "metadata": {},
   "source": [
    "The first commit file for Intro to AI CW"
   ]
  },
  {
   "cell_type": "code",
   "execution_count": 1,
   "id": "8f4f0c8b-4516-46d7-8ece-1e063edc08bb",
   "metadata": {},
   "outputs": [
    {
     "name": "stdout",
     "output_type": "stream",
     "text": [
      "hello world\n"
     ]
    }
   ],
   "source": [
    "print('hello world')"
   ]
  },
  {
   "cell_type": "code",
   "execution_count": null,
   "id": "b861ec11-37e9-46ed-927a-df33ea6eb412",
   "metadata": {},
   "outputs": [],
   "source": []
  }
 ],
 "metadata": {
  "kernelspec": {
   "display_name": "Python 3",
   "language": "python",
   "name": "python3"
  },
  "language_info": {
   "codemirror_mode": {
    "name": "ipython",
    "version": 3
   },
   "file_extension": ".py",
   "mimetype": "text/x-python",
   "name": "python",
   "nbconvert_exporter": "python",
   "pygments_lexer": "ipython3",
   "version": "3.8.8"
  }
 },
 "nbformat": 4,
 "nbformat_minor": 5
}
