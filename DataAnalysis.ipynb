{
  "nbformat": 4,
  "nbformat_minor": 0,
  "metadata": {
    "colab": {
      "name": "DataAnalysis.ipynb",
      "provenance": [],
      "collapsed_sections": []
    },
    "kernelspec": {
      "name": "python3",
      "display_name": "Python 3"
    },
    "language_info": {
      "name": "python"
    }
  },
  "cells": [
    {
      "cell_type": "markdown",
      "source": [
        " **Predicting software engineer salaries**"
      ],
      "metadata": {
        "id": "ZOWl0TIlW14u"
      }
    },
    {
      "cell_type": "markdown",
      "source": [
        "With the use of regression and natural language processing to find any significant patterns"
      ],
      "metadata": {
        "id": "9EFABdiaXIFb"
      }
    },
    {
      "cell_type": "code",
      "source": [
        "#import libraries\n",
        "import csv \n",
        "import pandas as pd\n",
        "import numpy as np\n",
        "import matplotlib.pyplot as plt"
      ],
      "metadata": {
        "id": "QjFhEUKKXBAR"
      },
      "execution_count": 23,
      "outputs": []
    },
    {
      "cell_type": "markdown",
      "source": [
        "**Importing dataset**"
      ],
      "metadata": {
        "id": "0BR-pS66XrPE"
      }
    },
    {
      "cell_type": "code",
      "source": [
        "#load the data into a Pandas dataframe\n",
        "jobs=pd.read_csv('Salaries_dataset.csv')\n",
        "#display the first 3 rows on train_features\n",
        "print(jobs.info())\n",
        "jobs.head(3)"
      ],
      "metadata": {
        "colab": {
          "base_uri": "https://localhost:8080/",
          "height": 530
        },
        "id": "2-Plc0UOXmAw",
        "outputId": "d7e02bca-4c1a-462b-cb81-bf4365e1c2a9"
      },
      "execution_count": 8,
      "outputs": [
        {
          "output_type": "stream",
          "name": "stdout",
          "text": [
            "<class 'pandas.core.frame.DataFrame'>\n",
            "RangeIndex: 500 entries, 0 to 499\n",
            "Data columns (total 8 columns):\n",
            " #   Column            Non-Null Count  Dtype  \n",
            "---  ------            --------------  -----  \n",
            " 0   Title             495 non-null    object \n",
            " 1   Company           493 non-null    object \n",
            " 2   Links             500 non-null    object \n",
            " 3   Ratings           310 non-null    float64\n",
            " 4   Address           494 non-null    object \n",
            " 5   Salary            103 non-null    object \n",
            " 6   Job description   494 non-null    object \n",
            " 7   full-description  500 non-null    object \n",
            "dtypes: float64(1), object(7)\n",
            "memory usage: 31.4+ KB\n",
            "None\n"
          ]
        },
        {
          "output_type": "execute_result",
          "data": {
            "text/html": [
              "\n",
              "  <div id=\"df-b828e91d-c48b-4e5c-b28e-f5180a40f0b2\">\n",
              "    <div class=\"colab-df-container\">\n",
              "      <div>\n",
              "<style scoped>\n",
              "    .dataframe tbody tr th:only-of-type {\n",
              "        vertical-align: middle;\n",
              "    }\n",
              "\n",
              "    .dataframe tbody tr th {\n",
              "        vertical-align: top;\n",
              "    }\n",
              "\n",
              "    .dataframe thead th {\n",
              "        text-align: right;\n",
              "    }\n",
              "</style>\n",
              "<table border=\"1\" class=\"dataframe\">\n",
              "  <thead>\n",
              "    <tr style=\"text-align: right;\">\n",
              "      <th></th>\n",
              "      <th>Title</th>\n",
              "      <th>Company</th>\n",
              "      <th>Links</th>\n",
              "      <th>Ratings</th>\n",
              "      <th>Address</th>\n",
              "      <th>Salary</th>\n",
              "      <th>Job description</th>\n",
              "      <th>full-description</th>\n",
              "    </tr>\n",
              "  </thead>\n",
              "  <tbody>\n",
              "    <tr>\n",
              "      <th>0</th>\n",
              "      <td>Software Engineer Degree Apprentice</td>\n",
              "      <td>Blue Engineering</td>\n",
              "      <td>https://uk.indeed.com/pagead/clk?mo=r&amp;ad=-6NYl...</td>\n",
              "      <td>NaN</td>\n",
              "      <td>London N1 6NU</td>\n",
              "      <td>£16,000 a year</td>\n",
              "      <td>We are seeking a full-time software engineer a...</td>\n",
              "      <td>Software Engineer Degree Apprentice\\nSalary: £...</td>\n",
              "    </tr>\n",
              "    <tr>\n",
              "      <th>1</th>\n",
              "      <td>Software Engineering Apprenticeship Registrati...</td>\n",
              "      <td>MI5</td>\n",
              "      <td>https://uk.indeed.com/rc/clk?jk=23e818204b884a...</td>\n",
              "      <td>NaN</td>\n",
              "      <td>London</td>\n",
              "      <td>NaN</td>\n",
              "      <td>On this Software Engineering Apprenticeship Yo...</td>\n",
              "      <td>On this Software Engineering Apprenticeship\\n\\...</td>\n",
              "    </tr>\n",
              "    <tr>\n",
              "      <th>2</th>\n",
              "      <td>Software Engineer Apprentice</td>\n",
              "      <td>Lloyds Banking Group</td>\n",
              "      <td>https://uk.indeed.com/rc/clk?jk=52b45930987414...</td>\n",
              "      <td>3.8</td>\n",
              "      <td>Bristol</td>\n",
              "      <td>£27,540 - £32,130 a year</td>\n",
              "      <td>Build simple data models and software designs....</td>\n",
              "      <td>Please note, this site is only for external ca...</td>\n",
              "    </tr>\n",
              "  </tbody>\n",
              "</table>\n",
              "</div>\n",
              "      <button class=\"colab-df-convert\" onclick=\"convertToInteractive('df-b828e91d-c48b-4e5c-b28e-f5180a40f0b2')\"\n",
              "              title=\"Convert this dataframe to an interactive table.\"\n",
              "              style=\"display:none;\">\n",
              "        \n",
              "  <svg xmlns=\"http://www.w3.org/2000/svg\" height=\"24px\"viewBox=\"0 0 24 24\"\n",
              "       width=\"24px\">\n",
              "    <path d=\"M0 0h24v24H0V0z\" fill=\"none\"/>\n",
              "    <path d=\"M18.56 5.44l.94 2.06.94-2.06 2.06-.94-2.06-.94-.94-2.06-.94 2.06-2.06.94zm-11 1L8.5 8.5l.94-2.06 2.06-.94-2.06-.94L8.5 2.5l-.94 2.06-2.06.94zm10 10l.94 2.06.94-2.06 2.06-.94-2.06-.94-.94-2.06-.94 2.06-2.06.94z\"/><path d=\"M17.41 7.96l-1.37-1.37c-.4-.4-.92-.59-1.43-.59-.52 0-1.04.2-1.43.59L10.3 9.45l-7.72 7.72c-.78.78-.78 2.05 0 2.83L4 21.41c.39.39.9.59 1.41.59.51 0 1.02-.2 1.41-.59l7.78-7.78 2.81-2.81c.8-.78.8-2.07 0-2.86zM5.41 20L4 18.59l7.72-7.72 1.47 1.35L5.41 20z\"/>\n",
              "  </svg>\n",
              "      </button>\n",
              "      \n",
              "  <style>\n",
              "    .colab-df-container {\n",
              "      display:flex;\n",
              "      flex-wrap:wrap;\n",
              "      gap: 12px;\n",
              "    }\n",
              "\n",
              "    .colab-df-convert {\n",
              "      background-color: #E8F0FE;\n",
              "      border: none;\n",
              "      border-radius: 50%;\n",
              "      cursor: pointer;\n",
              "      display: none;\n",
              "      fill: #1967D2;\n",
              "      height: 32px;\n",
              "      padding: 0 0 0 0;\n",
              "      width: 32px;\n",
              "    }\n",
              "\n",
              "    .colab-df-convert:hover {\n",
              "      background-color: #E2EBFA;\n",
              "      box-shadow: 0px 1px 2px rgba(60, 64, 67, 0.3), 0px 1px 3px 1px rgba(60, 64, 67, 0.15);\n",
              "      fill: #174EA6;\n",
              "    }\n",
              "\n",
              "    [theme=dark] .colab-df-convert {\n",
              "      background-color: #3B4455;\n",
              "      fill: #D2E3FC;\n",
              "    }\n",
              "\n",
              "    [theme=dark] .colab-df-convert:hover {\n",
              "      background-color: #434B5C;\n",
              "      box-shadow: 0px 1px 3px 1px rgba(0, 0, 0, 0.15);\n",
              "      filter: drop-shadow(0px 1px 2px rgba(0, 0, 0, 0.3));\n",
              "      fill: #FFFFFF;\n",
              "    }\n",
              "  </style>\n",
              "\n",
              "      <script>\n",
              "        const buttonEl =\n",
              "          document.querySelector('#df-b828e91d-c48b-4e5c-b28e-f5180a40f0b2 button.colab-df-convert');\n",
              "        buttonEl.style.display =\n",
              "          google.colab.kernel.accessAllowed ? 'block' : 'none';\n",
              "\n",
              "        async function convertToInteractive(key) {\n",
              "          const element = document.querySelector('#df-b828e91d-c48b-4e5c-b28e-f5180a40f0b2');\n",
              "          const dataTable =\n",
              "            await google.colab.kernel.invokeFunction('convertToInteractive',\n",
              "                                                     [key], {});\n",
              "          if (!dataTable) return;\n",
              "\n",
              "          const docLinkHtml = 'Like what you see? Visit the ' +\n",
              "            '<a target=\"_blank\" href=https://colab.research.google.com/notebooks/data_table.ipynb>data table notebook</a>'\n",
              "            + ' to learn more about interactive tables.';\n",
              "          element.innerHTML = '';\n",
              "          dataTable['output_type'] = 'display_data';\n",
              "          await google.colab.output.renderOutput(dataTable, element);\n",
              "          const docLink = document.createElement('div');\n",
              "          docLink.innerHTML = docLinkHtml;\n",
              "          element.appendChild(docLink);\n",
              "        }\n",
              "      </script>\n",
              "    </div>\n",
              "  </div>\n",
              "  "
            ],
            "text/plain": [
              "                                               Title  ...                                   full-description\n",
              "0                Software Engineer Degree Apprentice  ...  Software Engineer Degree Apprentice\\nSalary: £...\n",
              "1  Software Engineering Apprenticeship Registrati...  ...  On this Software Engineering Apprenticeship\\n\\...\n",
              "2                       Software Engineer Apprentice  ...  Please note, this site is only for external ca...\n",
              "\n",
              "[3 rows x 8 columns]"
            ]
          },
          "metadata": {},
          "execution_count": 8
        }
      ]
    },
    {
      "cell_type": "markdown",
      "source": [
        "In our dataset there are 7 object features and 1 float feature. And later one we will create an integer colum for average sallary. The features Links, Address will not be further explored, as they won't have an impact on the salary."
      ],
      "metadata": {
        "id": "N2m3hSc5abSq"
      }
    },
    {
      "cell_type": "markdown",
      "source": [
        "**Data Cleaning**"
      ],
      "metadata": {
        "id": "KiHtwnuYYef3"
      }
    },
    {
      "cell_type": "code",
      "execution_count": 10,
      "metadata": {
        "colab": {
          "base_uri": "https://localhost:8080/"
        },
        "id": "_gyjcPHlWyaI",
        "outputId": "b2a155bb-89a7-4fad-98f7-24159d038507"
      },
      "outputs": [
        {
          "output_type": "execute_result",
          "data": {
            "text/plain": [
              "81"
            ]
          },
          "metadata": {},
          "execution_count": 10
        }
      ],
      "source": [
        "#look for duplicate data  or corrupt data and remove it\n",
        "jobs.duplicated().sum()"
      ]
    },
    {
      "cell_type": "code",
      "source": [
        "import re\n",
        "import seaborn as sns\n",
        "\n",
        "#Function that formats sallary to a single value of salary per year\n",
        "def string_to_salary(x):\n",
        "    #check if the salary is already correctly formatted\n",
        "    if type(x) == int:\n",
        "        return x\n",
        "    \n",
        "    #Check if salary given as yearly\n",
        "    elif 'a year' in str(x).lower():\n",
        "        # check if salary given as a range\n",
        "        if '-' in str(x):\n",
        "            # remove dollar signs from string \n",
        "            x.replace(\"$\", '')\n",
        "            #find only the digits and commas\n",
        "            nums = re.findall('[\\d,]+', x)\n",
        "            sum_ = 0\n",
        "            #for each digit with comma separator, replace the comma\n",
        "            for num in nums:\n",
        "                #keep a track of the sum of the salary range\n",
        "                sum_ += int(num.replace(',', ''))\n",
        "            #return average of salary range\n",
        "            return (sum_/len(nums))\n",
        "        else:\n",
        "            # remove dollar signs from string\n",
        "            x.replace(\"$\", '')\n",
        "            #find only the digits and commas\n",
        "            num = re.findall('[\\d,]+', x)\n",
        "            return float(num[0].replace(\",\",\"\"))\n",
        "    \n",
        "    #check if salary is monthly\n",
        "    elif 'a month' in str(x).lower():\n",
        "        # check if salary given as a range\n",
        "        if '-' in str(x):\n",
        "            # remove dollar signs from string\n",
        "            x.replace(\"$\", '')\n",
        "            nums = re.findall('[\\d,]+', x)\n",
        "            sum_ = 0\n",
        "            #for each digit with comma separator, replace the comma\n",
        "            for num in nums:\n",
        "                #keep a track of the sum of the salary range\n",
        "                sum_ += int(num.replace(',', ''))\n",
        "            #return average of salary range multiply by 12 for months \n",
        "            return (sum_/len(nums)) * 12\n",
        "        else:\n",
        "            # remove dollar signs from string\n",
        "            x.replace(\"$\", '')\n",
        "            #find only the digits and commas\n",
        "            num = re.findall('[\\d,]+', x)\n",
        "            #multiply rate by 12 for months in year\n",
        "            return float(num[0].replace(\",\",\"\")) * 12\n",
        "            \n",
        "    \n",
        "    #check if salary is hourly\n",
        "    elif 'an hour' in str(x).lower():\n",
        "        # check if salary given as a range\n",
        "        if '-' in str(x):\n",
        "            # remove dollar signs from string\n",
        "            x.replace(\"$\", '')\n",
        "            #find only the digits and decimal places\n",
        "            nums = re.findall('[\\d.]+', x)\n",
        "            sum_ = 0\n",
        "            for num in nums:\n",
        "                sum_ += float(num)\n",
        "            return sum_/len(nums) * 2000\n",
        "        else:\n",
        "            x.replace(\"$\", '')\n",
        "            #find only the digits and decimal places\n",
        "            nums = re.findall('[\\d.]+', x)\n",
        "            sum_ = 0\n",
        "            for num in nums:\n",
        "                sum_ += float(num.strip())\n",
        "        #return average of salary range\n",
        "        return sum_ * 2000\n",
        "\n",
        "#run the function above\n",
        "jobs['real_salary'] = jobs['Salary'].map(string_to_salary)\n",
        "\n",
        "#(MAKE A DATAFRAME COMPARE)\n",
        "temp_df = jobs[jobs.real_salary>0]\n",
        "df_compare = pd.DataFrame({'Actual':temp_df['Salary'], 'Average': temp_df['real_salary']})\n",
        "df_head = df_compare.head(25)\n",
        "print(df_head)"
      ],
      "metadata": {
        "colab": {
          "base_uri": "https://localhost:8080/"
        },
        "id": "ZVLqn7srYzI8",
        "outputId": "3d64cdfd-6c65-4e8d-d4f4-034cb9ca5453"
      },
      "execution_count": 18,
      "outputs": [
        {
          "output_type": "stream",
          "name": "stdout",
          "text": [
            "                        Actual   Average\n",
            "0               £16,000 a year   16000.0\n",
            "2     £27,540 - £32,130 a year   29835.0\n",
            "8               £31,850 a year   31850.0\n",
            "10    £32,000 - £40,000 a year   36000.0\n",
            "12    £32,000 - £40,000 a year   36000.0\n",
            "14              £21,500 a year   21500.0\n",
            "18    £35,000 - £70,000 a year   52500.0\n",
            "21           £10 - £15 an hour   25000.0\n",
            "39              £35,000 a year   35000.0\n",
            "44   £90,000 - £116,000 a year  103000.0\n",
            "57    £39,309 - £48,226 a year   43767.5\n",
            "69    £60,000 - £90,000 a year   75000.0\n",
            "70    £57,495 - £83,214 a year   70354.5\n",
            "72    £55,000 - £80,000 a year   67500.0\n",
            "74              £24,000 a year   24000.0\n",
            "85    £40,057 - £45,839 a year   42948.0\n",
            "92    £57,861 - £75,710 a year   66785.5\n",
            "99    £68,139 - £75,710 a year   71924.5\n",
            "103   £26,473 - £73,033 a year   49753.0\n",
            "112   £32,601 - £49,491 a year   41046.0\n",
            "135             £30,000 a year   30000.0\n",
            "146   £45,066 - £69,041 a year   57053.5\n",
            "148             £32,000 a year   32000.0\n",
            "149   £40,000 - £60,000 a year   50000.0\n",
            "151             £32,000 a year   32000.0\n"
          ]
        }
      ]
    },
    {
      "cell_type": "markdown",
      "source": [
        "**Data Analysis**"
      ],
      "metadata": {
        "id": "29iE8aJKaX-G"
      }
    },
    {
      "cell_type": "code",
      "source": [
        "#summarize each feature variable\n",
        "def plot_feat(df, col, num):\n",
        "    if num ==1:\n",
        "      plt.figure(figsize=(20,15))\n",
        "      plt.subplot(3,1,1)\n",
        "      my_order = df.groupby(by=[col])['real_salary'].median().sort_values(ascending=True).index\n",
        "      sns.boxplot(x=col, y=\"real_salary\", data=df, order=my_order)\n",
        "    else:\n",
        "      plt.figure(figsize=(20,15))\n",
        "      plt.subplot(3,1,1)\n",
        "      my_order = df.groupby(by=[col])['real_salary'].median().sort_values(ascending=True).index\n",
        "      sns.boxplot(x=col, y=\"real_salary\", data=df, order=my_order)\n",
        "        \n",
        "      plt.subplot(3,1,2)\n",
        "      mean=df.groupby(by=[col])['real_salary'].mean().sort_values().plot()\n",
        "      plt.xlabel(col)\n",
        "      plt.ylabel('mean real_salary')\n",
        "      \n",
        "      plt.subplot(3,1,3)\n",
        "      df[col].value_counts().sort_values().plot() \n",
        "      plt.xlabel(col)\n",
        "      plt.ylabel('count')\n",
        "    \n",
        "    plt.show()   "
      ],
      "metadata": {
        "id": "I8JgtD6abJ2i"
      },
      "execution_count": 59,
      "outputs": []
    },
    {
      "cell_type": "code",
      "source": [
        "plot_feat(temp_df, 'Company',0)"
      ],
      "metadata": {
        "colab": {
          "base_uri": "https://localhost:8080/",
          "height": 877
        },
        "id": "10XBtM6YbOiZ",
        "outputId": "29ced946-93da-4962-e825-e10d4a1a9cbb"
      },
      "execution_count": 62,
      "outputs": [
        {
          "output_type": "display_data",
          "data": {
            "image/png": "[encoded data removed]",
            "text/plain": [
              "<Figure size 1440x1080 with 3 Axes>"
            ]
          },
          "metadata": {
            "needs_background": "light"
          }
        }
      ]
    },
    {
      "cell_type": "code",
      "source": [
        "plot_feat(temp_df, 'Ratings', 1)"
      ],
      "metadata": {
        "colab": {
          "base_uri": "https://localhost:8080/",
          "height": 302
        },
        "id": "KY_tbLsyc27O",
        "outputId": "536a6bbe-0a9e-4972-97a7-151511449d6e"
      },
      "execution_count": 60,
      "outputs": [
        {
          "output_type": "display_data",
          "data": {
            "image/png": "[encoded data removed]",
            "text/plain": [
              "<Figure size 1440x1080 with 1 Axes>"
            ]
          },
          "metadata": {
            "needs_background": "light"
          }
        }
      ]
    },
    {
      "cell_type": "code",
      "source": [
        "#summarize the target variable\n",
        "plt.figure(figsize=(15,5))\n",
        "salary=temp_df['real_salary']\n",
        "plt.subplot(1,2,1)\n",
        "num_bins=20\n",
        "n, bins, patches=plt.hist(salary, num_bins, facecolor='blue', alpha=0.5)\n",
        "plt.subplot(1,2,2)\n",
        "sns.boxplot('real_salary', data=temp_df)\n",
        "plt.show()"
      ],
      "metadata": {
        "colab": {
          "base_uri": "https://localhost:8080/",
          "height": 391
        },
        "id": "K2iyqxvKd36p",
        "outputId": "280babc3-f67f-4421-949f-a8d433e8344b"
      },
      "execution_count": 54,
      "outputs": [
        {
          "output_type": "stream",
          "name": "stderr",
          "text": [
            "/usr/local/lib/python3.7/dist-packages/seaborn/_decorators.py:43: FutureWarning: Pass the following variable as a keyword arg: x. From version 0.12, the only valid positional argument will be `data`, and passing other arguments without an explicit keyword will result in an error or misinterpretation.\n",
            "  FutureWarning\n"
          ]
        },
        {
          "output_type": "display_data",
          "data": {
            "image/png": "[encoded data removed]",
            "text/plain": [
              "<Figure size 1080x360 with 2 Axes>"
            ]
          },
          "metadata": {
            "needs_background": "light"
          }
        }
      ]
    },
    {
      "cell_type": "code",
      "source": [
        "temp_df.groupby(['Title'])['real_salary'].mean().sort_values()"
      ],
      "metadata": {
        "colab": {
          "base_uri": "https://localhost:8080/"
        },
        "id": "Oqr5gPXxeKlT",
        "outputId": "668162ad-ddbf-48a6-bcac-ffc946aa8b65"
      },
      "execution_count": 55,
      "outputs": [
        {
          "output_type": "execute_result",
          "data": {
            "text/plain": [
              "Title\n",
              "Software Engineer Degree Apprentice                                 16000.0\n",
              "Apprentice Developer                                                19801.0\n",
              "Software Engineering - Internship                                   21500.0\n",
              "2022 UK L6 Software Engineering Degree Apprenticeship - Newb...     21500.0\n",
              "Junior Game Developer                                               21600.0\n",
              "                                                                     ...   \n",
              ".NET Developer, .NET 5, C#, Azure, JavaScript, Agile – Londo...     92500.0\n",
              "Snr Software Engineer - Data Products (Python or J                  92500.0\n",
              "Senior Backend Engineer, Payments                                  103000.0\n",
              "Backend Engineer                                                   103000.0\n",
              "Software Engineering Manager, Product                              115000.0\n",
              "Name: real_salary, Length: 70, dtype: float64"
            ]
          },
          "metadata": {},
          "execution_count": 55
        }
      ]
    },
    {
      "cell_type": "code",
      "source": [
        "#look for correlation between each feature and the target\n",
        "temp_df.corr()"
      ],
      "metadata": {
        "colab": {
          "base_uri": "https://localhost:8080/",
          "height": 112
        },
        "id": "tfgh7-0beWwY",
        "outputId": "de792cdd-d41b-4f11-c7ec-442b33d20a84"
      },
      "execution_count": 57,
      "outputs": [
        {
          "output_type": "execute_result",
          "data": {
            "text/html": [
              "\n",
              "  <div id=\"df-e0b69130-9c54-402f-ae58-b4435bde39bf\">\n",
              "    <div class=\"colab-df-container\">\n",
              "      <div>\n",
              "<style scoped>\n",
              "    .dataframe tbody tr th:only-of-type {\n",
              "        vertical-align: middle;\n",
              "    }\n",
              "\n",
              "    .dataframe tbody tr th {\n",
              "        vertical-align: top;\n",
              "    }\n",
              "\n",
              "    .dataframe thead th {\n",
              "        text-align: right;\n",
              "    }\n",
              "</style>\n",
              "<table border=\"1\" class=\"dataframe\">\n",
              "  <thead>\n",
              "    <tr style=\"text-align: right;\">\n",
              "      <th></th>\n",
              "      <th>Ratings</th>\n",
              "      <th>real_salary</th>\n",
              "    </tr>\n",
              "  </thead>\n",
              "  <tbody>\n",
              "    <tr>\n",
              "      <th>Ratings</th>\n",
              "      <td>1.000000</td>\n",
              "      <td>0.359268</td>\n",
              "    </tr>\n",
              "    <tr>\n",
              "      <th>real_salary</th>\n",
              "      <td>0.359268</td>\n",
              "      <td>1.000000</td>\n",
              "    </tr>\n",
              "  </tbody>\n",
              "</table>\n",
              "</div>\n",
              "      <button class=\"colab-df-convert\" onclick=\"convertToInteractive('df-e0b69130-9c54-402f-ae58-b4435bde39bf')\"\n",
              "              title=\"Convert this dataframe to an interactive table.\"\n",
              "              style=\"display:none;\">\n",
              "        \n",
              "  <svg xmlns=\"http://www.w3.org/2000/svg\" height=\"24px\"viewBox=\"0 0 24 24\"\n",
              "       width=\"24px\">\n",
              "    <path d=\"M0 0h24v24H0V0z\" fill=\"none\"/>\n",
              "    <path d=\"M18.56 5.44l.94 2.06.94-2.06 2.06-.94-2.06-.94-.94-2.06-.94 2.06-2.06.94zm-11 1L8.5 8.5l.94-2.06 2.06-.94-2.06-.94L8.5 2.5l-.94 2.06-2.06.94zm10 10l.94 2.06.94-2.06 2.06-.94-2.06-.94-.94-2.06-.94 2.06-2.06.94z\"/><path d=\"M17.41 7.96l-1.37-1.37c-.4-.4-.92-.59-1.43-.59-.52 0-1.04.2-1.43.59L10.3 9.45l-7.72 7.72c-.78.78-.78 2.05 0 2.83L4 21.41c.39.39.9.59 1.41.59.51 0 1.02-.2 1.41-.59l7.78-7.78 2.81-2.81c.8-.78.8-2.07 0-2.86zM5.41 20L4 18.59l7.72-7.72 1.47 1.35L5.41 20z\"/>\n",
              "  </svg>\n",
              "      </button>\n",
              "      \n",
              "  <style>\n",
              "    .colab-df-container {\n",
              "      display:flex;\n",
              "      flex-wrap:wrap;\n",
              "      gap: 12px;\n",
              "    }\n",
              "\n",
              "    .colab-df-convert {\n",
              "      background-color: #E8F0FE;\n",
              "      border: none;\n",
              "      border-radius: 50%;\n",
              "      cursor: pointer;\n",
              "      display: none;\n",
              "      fill: #1967D2;\n",
              "      height: 32px;\n",
              "      padding: 0 0 0 0;\n",
              "      width: 32px;\n",
              "    }\n",
              "\n",
              "    .colab-df-convert:hover {\n",
              "      background-color: #E2EBFA;\n",
              "      box-shadow: 0px 1px 2px rgba(60, 64, 67, 0.3), 0px 1px 3px 1px rgba(60, 64, 67, 0.15);\n",
              "      fill: #174EA6;\n",
              "    }\n",
              "\n",
              "    [theme=dark] .colab-df-convert {\n",
              "      background-color: #3B4455;\n",
              "      fill: #D2E3FC;\n",
              "    }\n",
              "\n",
              "    [theme=dark] .colab-df-convert:hover {\n",
              "      background-color: #434B5C;\n",
              "      box-shadow: 0px 1px 3px 1px rgba(0, 0, 0, 0.15);\n",
              "      filter: drop-shadow(0px 1px 2px rgba(0, 0, 0, 0.3));\n",
              "      fill: #FFFFFF;\n",
              "    }\n",
              "  </style>\n",
              "\n",
              "      <script>\n",
              "        const buttonEl =\n",
              "          document.querySelector('#df-e0b69130-9c54-402f-ae58-b4435bde39bf button.colab-df-convert');\n",
              "        buttonEl.style.display =\n",
              "          google.colab.kernel.accessAllowed ? 'block' : 'none';\n",
              "\n",
              "        async function convertToInteractive(key) {\n",
              "          const element = document.querySelector('#df-e0b69130-9c54-402f-ae58-b4435bde39bf');\n",
              "          const dataTable =\n",
              "            await google.colab.kernel.invokeFunction('convertToInteractive',\n",
              "                                                     [key], {});\n",
              "          if (!dataTable) return;\n",
              "\n",
              "          const docLinkHtml = 'Like what you see? Visit the ' +\n",
              "            '<a target=\"_blank\" href=https://colab.research.google.com/notebooks/data_table.ipynb>data table notebook</a>'\n",
              "            + ' to learn more about interactive tables.';\n",
              "          element.innerHTML = '';\n",
              "          dataTable['output_type'] = 'display_data';\n",
              "          await google.colab.output.renderOutput(dataTable, element);\n",
              "          const docLink = document.createElement('div');\n",
              "          docLink.innerHTML = docLinkHtml;\n",
              "          element.appendChild(docLink);\n",
              "        }\n",
              "      </script>\n",
              "    </div>\n",
              "  </div>\n",
              "  "
            ],
            "text/plain": [
              "              Ratings  real_salary\n",
              "Ratings      1.000000     0.359268\n",
              "real_salary  0.359268     1.000000"
            ]
          },
          "metadata": {},
          "execution_count": 57
        }
      ]
    },
    {
      "cell_type": "markdown",
      "source": [
        ""
      ],
      "metadata": {
        "id": "1wiyCTECaWjt"
      }
    }
  ]
}