{
  "cells": [
    {
      "cell_type": "markdown",
      "source": [
        "This is Intro to AI coursework. Our model would classify and predict Salaries"
      ],
      "metadata": {
        "id": "2DWFSOSjMvLZ"
      },
      "id": "2DWFSOSjMvLZ"
    },
    {
      "cell_type": "markdown",
      "source": [
        "Impor the libraries that is needed for our model\n"
      ],
      "metadata": {
        "id": "3QzJDVPCNKeq"
      },
      "id": "3QzJDVPCNKeq"
    },
    {
      "cell_type": "code",
      "execution_count": 13,
      "id": "8f4f0c8b-4516-46d7-8ece-1e063edc08bb",
      "metadata": {
        "id": "8f4f0c8b-4516-46d7-8ece-1e063edc08bb"
      },
      "outputs": [],
      "source": [
        "import numpy as np\n",
        "from sklearn import metrics\n",
        "from sklearn.model_selection import train_test_split\n",
        "from sklearn.svm import SVR\n",
        "from sklearn.metrics import mean_squared_error, r2_score\n",
        "import matplotlib.pyplot as plt\n",
        "import pandas as pd\n",
        "\n",
        "import seaborn as sns"
      ]
    },
    {
      "cell_type": "markdown",
      "source": [
        "Import the csv file into pandas dataframe and remove any null values.\n"
      ],
      "metadata": {
        "id": "J28MRZ0EN2rx"
      },
      "id": "J28MRZ0EN2rx"
    },
    {
      "cell_type": "code",
      "execution_count": 14,
      "id": "b861ec11-37e9-46ed-927a-df33ea6eb412",
      "metadata": {
        "colab": {
          "base_uri": "https://localhost:8080/"
        },
        "id": "b861ec11-37e9-46ed-927a-df33ea6eb412",
        "outputId": "3c9f50f6-1470-476d-cdb6-8f1a8fe17634"
      },
      "outputs": [
        {
          "output_type": "stream",
          "name": "stdout",
          "text": [
            "(37, 8)\n",
            "Year                                                    int64\n",
            "Quarter                                                 int64\n",
            "Median weekly earnings (in current dollars) - Total     int64\n",
            "Median weekly earnings (in current dollars) - Men       int64\n",
            "Median weekly earnings (in current dollars) - Women     int64\n",
            "Median weekly earnings (in constant dollars) - Total    int64\n",
            "Median weekly earnings (in constant dollars) - Men      int64\n",
            "Median weekly earnings (in constant dollars) - Women    int64\n",
            "dtype: object\n",
            "<bound method NDFrame.head of     Year  ...  Median weekly earnings (in constant dollars) - Women\n",
            "0   2009  ...                                                307   \n",
            "1   2010  ...                                                304   \n",
            "2   2010  ...                                                309   \n",
            "3   2010  ...                                                308   \n",
            "4   2010  ...                                                308   \n",
            "5   2011  ...                                                306   \n",
            "6   2011  ...                                                306   \n",
            "7   2011  ...                                                301   \n",
            "8   2011  ...                                                302   \n",
            "9   2012  ...                                                303   \n",
            "10  2012  ...                                                300   \n",
            "11  2012  ...                                                302   \n",
            "12  2012  ...                                                298   \n",
            "13  2013  ...                                                301   \n",
            "14  2013  ...                                                304   \n",
            "15  2013  ...                                                302   \n",
            "16  2013  ...                                                304   \n",
            "17  2014  ...                                                304   \n",
            "18  2014  ...                                                302   \n",
            "19  2014  ...                                                304   \n",
            "20  2014  ...                                                306   \n",
            "21  2015  ...                                                307   \n",
            "22  2015  ...                                                306   \n",
            "23  2015  ...                                                306   \n",
            "24  2015  ...                                                307   \n",
            "25  2016  ...                                                312   \n",
            "26  2016  ...                                                311   \n",
            "27  2016  ...                                                312   \n",
            "28  2016  ...                                                314   \n",
            "29  2017  ...                                                311   \n",
            "30  2017  ...                                                320   \n",
            "31  2017  ...                                                314   \n",
            "32  2017  ...                                                312   \n",
            "33  2018  ...                                                311   \n",
            "34  2018  ...                                                312   \n",
            "35  2018  ...                                                318   \n",
            "36  2018  ...                                                315   \n",
            "\n",
            "[37 rows x 8 columns]>\n"
          ]
        }
      ],
      "source": [
        "file = 'table1.csv'\n",
        "sales_data = pd.read_csv(file, na_values=['NA', '?'])\n",
        "df = sales_data.select_dtypes(include=['int', 'float'])\n",
        "#Data Shape\n",
        "print(df.shape)\n",
        "#Data types\n",
        "print(df.dtypes)\n",
        "#Head of df\n",
        "print(df.head)"
      ]
    },
    {
      "cell_type": "code",
      "source": [
        "result = []\n",
        "for x in df.columns:\n",
        "    if x != 'Median weekly earnings (in constant dollars) - Women':\n",
        "        result.append(x)\n",
        "\n",
        "X = df[result].values\n",
        "y = df['Median weekly earnings (in constant dollars) - Women'].values\n",
        "\n",
        "#split data into testing and training\n",
        "X_train, X_test, y_train, y_test = train_test_split(X, y, test_size=0.2, random_state=0)\n",
        "#split data into testing and training\n",
        "X_train, X_test, y_train, y_test = train_test_split(X, y, test_size=0.2, random_state=0)\n",
        "\n",
        "clf = SVR(kernel='linear', epsilon=1034,gamma=3223, C=3000).fit(X_train, y_train)\n",
        "\n",
        "# FS_rbf_c10.00_g0.10_e0.10\n",
        "\n",
        "Cs=gammas=epsilons=[0.1*(10**xx) for xx in range(0,3)]\n",
        "kernels = ['linear','rbf']\n",
        "# Cs=gammas=epsilons=[0.1*(10**xx) for xx in range(0,3)]\n",
        "# kernels = ['linear','rbf']\n",
        "\n",
        "print(clf.score(X_test, y_test))\n",
        "\n",
        "y_pred = clf.predict(X_test)\n",
        "\n",
        "\n",
        "#build a new data frame with two columns, the actual values of the test data,\n",
        "#and the predictions of the model\n",
        "df_compare = pd.DataFrame({'Actual': y_test, 'Predicted': y_pred})\n",
        "df_head = df_compare.head(25)\n",
        "print(df_head)\n",
        "\n",
        "\n",
        "\n",
        "df_head.plot(kind='bar',figsize=(10,8))\n",
        "plt.grid(which='major', linestyle='-', linewidth='0.5', color='green')\n",
        "plt.grid(which='minor', linestyle=':', linewidth='0.5', color='black')\n",
        "# plt.show()\n",
        "\n",
        "print('Mean:', np.mean(y_test))\n",
        "print('Root Mean Squared Error:', np.sqrt(metrics.mean_squared_error(y_test, y_pred)))\n",
        "# Performance metrics\n",
        "errors = abs(y_pred - y_test)\n",
        "# Calculate mean absolute percentage error (MAPE)\n",
        "mape = 100 * (errors / y_test)\n",
        "# Calculate and display accuracy\n",
        "accuracy = 100 - np.mean(mape)\n",
        "print('Accuracy:', round(accuracy, 2), '%.')\n",
        "print(r2_score(y_test, y_pred))\n",
        "\n",
        "df_compare = pd.DataFrame({'Actual': y_test, 'Predicted': y_pred})\n",
        "sns.regplot(x='Actual', y='Predicted', data=df_compare);\n",
        "# plt.show()\n",
        "\n",
        "\n",
        "# Regression chart.\n",
        "def chart_regression(pred, y, sort=True):\n",
        "    t = pd.DataFrame({'pred': pred, 'y': y.flatten()})\n",
        "    if sort:\n",
        "        t.sort_values(by=['y'], inplace=True)\n",
        "    plt.plot(t['y'].tolist(), label='expected')\n",
        "    plt.plot(t['pred'].tolist(), label='prediction')\n",
        "    plt.ylabel('output')\n",
        "    plt.legend()\n",
        "    plt.show()\n"
      ],
      "metadata": {
        "colab": {
          "base_uri": "https://localhost:8080/",
          "height": 746
        },
        "id": "KUejhyDJVyFx",
        "outputId": "e47ec148-3c63-4656-c849-3c283151931c"
      },
      "id": "KUejhyDJVyFx",
      "execution_count": 15,
      "outputs": [
        {
          "output_type": "stream",
          "name": "stdout",
          "text": [
            "-0.3600000000000001\n",
            "   Actual  Predicted\n",
            "0     306      309.0\n",
            "1     306      309.0\n",
            "2     304      309.0\n",
            "3     300      309.0\n",
            "4     314      309.0\n",
            "5     314      309.0\n",
            "6     302      309.0\n",
            "7     302      309.0\n",
            "Mean: 306.0\n",
            "Root Mean Squared Error: 5.830951894845301\n",
            "Accuracy: 98.2 %.\n",
            "-0.3600000000000001\n"
          ]
        },
        {
          "output_type": "display_data",
          "data": {
            "image/png": "[encoded data removed]",
            "text/plain": [
              "<Figure size 720x576 with 1 Axes>"
            ]
          },
          "metadata": {
            "needs_background": "light"
          }
        }
      ]
    }
  ],
  "metadata": {
    "kernelspec": {
      "display_name": "Python 3",
      "language": "python",
      "name": "python3"
    },
    "language_info": {
      "codemirror_mode": {
        "name": "ipython",
        "version": 3
      },
      "file_extension": ".py",
      "mimetype": "text/x-python",
      "name": "python",
      "nbconvert_exporter": "python",
      "pygments_lexer": "ipython3",
      "version": "3.8.8"
    },
    "colab": {
      "name": "Intro_to_AI_CW.ipynb",
      "provenance": [],
      "collapsed_sections": []
    }
  },
  "nbformat": 4,
  "nbformat_minor": 5
}